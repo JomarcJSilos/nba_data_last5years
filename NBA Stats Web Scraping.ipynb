{
 "cells": [
  {
   "cell_type": "code",
   "execution_count": 1,
   "id": "0348a53a",
   "metadata": {},
   "outputs": [],
   "source": [
    "# Importing necessary packages\n",
    "import pandas as pd\n",
    "import requests\n",
    "pd.set_option('display.max_columns', None)\n",
    "import time\n",
    "import numpy as np"
   ]
  },
  {
   "cell_type": "code",
   "execution_count": 2,
   "id": "f4b825ac",
   "metadata": {},
   "outputs": [],
   "source": [
    "test_url = 'https://stats.nba.com/stats/leagueLeaders?LeagueID=00&PerMode=Totals&Scope=S&Season=2022-23&SeasonType=Regular%20Season&StatCategory=PTS'"
   ]
  },
  {
   "cell_type": "code",
   "execution_count": 3,
   "id": "daa7a172",
   "metadata": {},
   "outputs": [],
   "source": [
    "r = requests.get(url=test_url).json()\n",
    "# JSON File of the dataset from NBA.com\n",
    "r"
   ]
  },
  {
   "cell_type": "code",
   "execution_count": 5,
   "id": "b7eb0adf",
   "metadata": {},
   "outputs": [],
   "source": [
    "# Column Headers\n",
    "col_headers = r['resultSet']['headers']"
   ]
  },
  {
   "cell_type": "code",
   "execution_count": 6,
   "id": "f4c6db6c",
   "metadata": {},
   "outputs": [
    {
     "data": {
      "text/plain": [
       "[1628369,\n",
       " 1,\n",
       " 'Jayson Tatum',\n",
       " 1610612738,\n",
       " 'BOS',\n",
       " 74,\n",
       " 2732,\n",
       " 727,\n",
       " 1559,\n",
       " 0.466,\n",
       " 240,\n",
       " 686,\n",
       " 0.35,\n",
       " 531,\n",
       " 622,\n",
       " 0.854,\n",
       " 78,\n",
       " 571,\n",
       " 649,\n",
       " 342,\n",
       " 78,\n",
       " 51,\n",
       " 213,\n",
       " 160,\n",
       " 2225,\n",
       " 2209,\n",
       " 1.61,\n",
       " 0.37]"
      ]
     },
     "execution_count": 6,
     "metadata": {},
     "output_type": "execute_result"
    }
   ],
   "source": [
    "# Displays the first player in the dataset\n",
    "r['resultSet']['rowSet'][0]\n",
    "\n",
    "# Displays the players in a dataframe\n",
    "pd.DataFrame(r['resultSet']['rowSet'], columns = col_headers)\n",
    "\n",
    "# Practicing prepping the Data by adding more identifying info\n",
    "temp_df1 = pd.DataFrame(r['resultSet']['rowSet'], columns = col_headers)\n",
    "temp_df2 = pd.DataFrame({'Year':['2022-23' for i in range(len(temp_df1))],\n",
    "                        'Season_Type':['Regular%20Season' for i in range(len(temp_df1))]})\n",
    "\n",
    "# Adds exisiting data to new data frame with Year and Season Type\n",
    "temp_df3 = pd.concat([temp_df2, temp_df1], axis = 1)\n",
    "temp_df3"
   ]
  },
  {
   "cell_type": "code",
   "execution_count": 9,
   "id": "7b7e17ec",
   "metadata": {},
   "outputs": [],
   "source": [
    "del temp_df1, temp_df2, temp_df3"
   ]
  },
  {
   "cell_type": "code",
   "execution_count": 11,
   "id": "9651dc7c",
   "metadata": {},
   "outputs": [],
   "source": [
    "headers = {\n",
    "    'Accept': '*/*',\n",
    "    'Accept-Encoding': 'gzip, deflate, br',\n",
    "    'Accept-Language': 'en-US,en;q=0.9',\n",
    "    'Connection': 'keep-alive',\n",
    "    'Host':'stats.nba.com',\n",
    "    'Origin': 'https://www.nba.com',\n",
    "    'Referer': 'https://www.nba.com/',\n",
    "    'Sec-Ch-Ua': '\"Not/A)Brand\";v=\"99\", \"Google Chrome\";v=\"115\", \"Chromium\";v=\"115\"',\n",
    "    'Sec-Ch-Ua-Mobile': '?0',\n",
    "    'Sec-Ch-Ua-Platform': '\"Windows\"',\n",
    "    'Sec-Fetch-Dest': 'empty',\n",
    "    'Sec-Fetch-Mode': 'cors',\n",
    "    'Sec-Fetch-Site': 'same-site',\n",
    "    'User-Agent': 'Mozilla/5.0 (Windows NT 10.0; Win64; x64) AppleWebKit/537.36 (KHTML, like Gecko) Chrome/115.0.0.0 Safari/537.36',\n",
    "}"
   ]
  },
  {
   "cell_type": "code",
   "execution_count": 14,
   "id": "51659f17",
   "metadata": {
    "scrolled": true
   },
   "outputs": [
    {
     "name": "stdout",
     "output_type": "stream",
     "text": [
      "Finished scraping data for the 2018-19 Regular%20Season.\n",
      "...waiting 23.5 seconds\n",
      "Finished scraping data for the 2018-19 Playoffs.\n",
      "...waiting 39.8 seconds\n",
      "Finished scraping data for the 2019-20 Regular%20Season.\n",
      "...waiting 32.0 seconds\n",
      "Finished scraping data for the 2019-20 Playoffs.\n",
      "...waiting 29.2 seconds\n",
      "Finished scraping data for the 2020-21 Regular%20Season.\n",
      "...waiting 38.4 seconds\n",
      "Finished scraping data for the 2020-21 Playoffs.\n",
      "...waiting 30.8 seconds\n",
      "Finished scraping data for the 2021-22 Regular%20Season.\n",
      "...waiting 29.5 seconds\n",
      "Finished scraping data for the 2021-22 Playoffs.\n",
      "...waiting 21.8 seconds\n",
      "Finished scraping data for the 2022-23 Regular%20Season.\n",
      "...waiting 24.9 seconds\n",
      "Finished scraping data for the 2022-23 Playoffs.\n",
      "...waiting 39.8 seconds\n",
      "Process completed! Total run time: 5.25\n"
     ]
    }
   ],
   "source": [
    "# Creating a for loop that allows you to scrape data from multiple seasons\n",
    "df_cols = ['Year', 'Season_Type'] + col_headers\n",
    "\n",
    "years = [\"2018-19\",\"2019-20\",\"2020-21\",\"2021-22\",\"2022-23\"]\n",
    "season_types = [\"Regular%20Season\", \"Playoffs\"]\n",
    "\n",
    "\n",
    "df = pd.DataFrame(columns = df_cols)\n",
    "\n",
    "begin_loop = time.time()\n",
    "\n",
    "for y in years:\n",
    "    for s in season_types:\n",
    "        # api_url is a dynamic version of the url we utilized in the beginning \n",
    "        api_url = \"https://stats.nba.com/stats/leagueLeaders?LeagueID=00&PerMode=Totals&Scope=S&Season=\"+y+\"&SeasonType=\"+s+\"&StatCategory=PTS\"\n",
    "        r = requests.get(url=api_url, headers = headers).json()\n",
    "        temp_df1 = pd.DataFrame(r['resultSet']['rowSet'], columns = col_headers)\n",
    "        temp_df2 = pd.DataFrame({'Year':[y for i in range(len(temp_df1))], 'Season_Type':[s for i in range(len(temp_df1))]})\n",
    "        temp_df3 = pd.concat([temp_df2, temp_df1], axis = 1) \n",
    "        df = pd.concat([df, temp_df3], axis = 0)\n",
    "        print(f'Finished scraping data for the {y} {s}.')\n",
    "        lag = np.random.uniform(low = 20, high = 40)\n",
    "        print(f'...waiting {round(lag,1)} seconds')\n",
    "        time.sleep(lag)\n",
    "        \n",
    "print(f'Process completed! Total run time: {round((time.time() - begin_loop)/60,2)}')\n",
    "df.to_excel('nba_player_data.xlsx', index = False)"
   ]
  },
  {
   "cell_type": "code",
   "execution_count": null,
   "id": "1bae2b87",
   "metadata": {},
   "outputs": [],
   "source": []
  }
 ],
 "metadata": {
  "kernelspec": {
   "display_name": "Python 3 (ipykernel)",
   "language": "python",
   "name": "python3"
  },
  "language_info": {
   "codemirror_mode": {
    "name": "ipython",
    "version": 3
   },
   "file_extension": ".py",
   "mimetype": "text/x-python",
   "name": "python",
   "nbconvert_exporter": "python",
   "pygments_lexer": "ipython3",
   "version": "3.9.13"
  }
 },
 "nbformat": 4,
 "nbformat_minor": 5
}
